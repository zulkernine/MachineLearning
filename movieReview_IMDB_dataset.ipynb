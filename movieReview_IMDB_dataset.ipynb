{
  "nbformat": 4,
  "nbformat_minor": 0,
  "metadata": {
    "colab": {
      "name": "movieReview_IMDB_dataset.ipynb",
      "provenance": [],
      "authorship_tag": "ABX9TyM5gpjnjD60XlRhm/cFanh5",
      "include_colab_link": true
    },
    "kernelspec": {
      "name": "python3",
      "display_name": "Python 3"
    }
  },
  "cells": [
    {
      "cell_type": "markdown",
      "metadata": {
        "id": "view-in-github",
        "colab_type": "text"
      },
      "source": [
        "<a href=\"https://colab.research.google.com/github/zulkernine/MachineLearning/blob/master/movieReview_IMDB_dataset.ipynb\" target=\"_parent\"><img src=\"https://colab.research.google.com/assets/colab-badge.svg\" alt=\"Open In Colab\"/></a>"
      ]
    },
    {
      "cell_type": "markdown",
      "metadata": {
        "id": "WhW4xxyU-i5q",
        "colab_type": "text"
      },
      "source": [
        "Load the dataset"
      ]
    },
    {
      "cell_type": "code",
      "metadata": {
        "id": "Mmct2fBo7tcu",
        "colab_type": "code",
        "colab": {
          "base_uri": "https://localhost:8080/",
          "height": 54
        },
        "outputId": "054a89a4-4d8c-44a3-8b5e-3fb26a09bdcb"
      },
      "source": [
        "%tensorflow_version 2.x\n",
        "from keras.datasets import imdb\n",
        "(train_data, train_labels),(test_data,test_labels) = imdb.load_data(num_words=10000)"
      ],
      "execution_count": 1,
      "outputs": [
        {
          "output_type": "stream",
          "text": [
            "TensorFlow 2.x selected.\n"
          ],
          "name": "stdout"
        },
        {
          "output_type": "stream",
          "text": [
            "Using TensorFlow backend.\n"
          ],
          "name": "stderr"
        }
      ]
    },
    {
      "cell_type": "markdown",
      "metadata": {
        "id": "xwGhT7ts-eXT",
        "colab_type": "text"
      },
      "source": [
        "Look the data"
      ]
    },
    {
      "cell_type": "code",
      "metadata": {
        "id": "UWYlZpr-9uvU",
        "colab_type": "code",
        "colab": {
          "base_uri": "https://localhost:8080/",
          "height": 55
        },
        "outputId": "5fae0221-d296-40b2-b0bf-ecf30d09ab33"
      },
      "source": [
        "#train_data[0]\n",
        "#max([max (sequence) for sequence in train_data])\n",
        "\n",
        "word_index = imdb.get_word_index()\n",
        "reverse_word_index = dict([(value,key) for (key,value) in word_index.items()])\n",
        "decoded_review = ' '.join([reverse_word_index.get(i-3,'?') for i in train_data[0]])\n",
        "print(decoded_review)"
      ],
      "execution_count": 2,
      "outputs": [
        {
          "output_type": "stream",
          "text": [
            "? this film was just brilliant casting location scenery story direction everyone's really suited the part they played and you could just imagine being there robert ? is an amazing actor and now the same being director ? father came from the same scottish island as myself so i loved the fact there was a real connection with this film the witty remarks throughout the film were great it was just brilliant so much that i bought the film as soon as it was released for ? and would recommend it to everyone to watch and the fly fishing was amazing really cried at the end it was so sad and you know what they say if you cry at a film it must have been good and this definitely was also ? to the two little boy's that played the ? of norman and paul they were just brilliant children are often left out of the ? list i think because the stars that play them all grown up are such a big profile for the whole film but these children are amazing and should be praised for what they have done don't you think the whole story was so lovely because it was true and was someone's life after all that was shared with us all\n"
          ],
          "name": "stdout"
        }
      ]
    },
    {
      "cell_type": "markdown",
      "metadata": {
        "id": "fEI7knvcBTe0",
        "colab_type": "text"
      },
      "source": [
        "Encode the integer sequence in abinary matrix"
      ]
    },
    {
      "cell_type": "code",
      "metadata": {
        "id": "gAiAb8X8-HPE",
        "colab_type": "code",
        "colab": {}
      },
      "source": [
        "import numpy as np\n",
        "\n",
        "def vectorize_sequences(sequences, dimension=10000):\n",
        "  results = np.zeros((len(sequences),dimension))\n",
        "  for i, sequence in enumerate(sequences):\n",
        "    results[i,sequence] = 1\n",
        "  return results\n",
        "\n",
        "\n",
        "x_train = vectorize_sequences(train_data)\n",
        "x_test = vectorize_sequences(test_data)\n"
      ],
      "execution_count": 0,
      "outputs": []
    },
    {
      "cell_type": "code",
      "metadata": {
        "id": "f5YuPEo9CR6e",
        "colab_type": "code",
        "colab": {
          "base_uri": "https://localhost:8080/",
          "height": 35
        },
        "outputId": "ff734d91-a240-4530-9ceb-136d69935c6f"
      },
      "source": [
        "#Look at sample data after preprocessing\n",
        "x_train[506]"
      ],
      "execution_count": 4,
      "outputs": [
        {
          "output_type": "execute_result",
          "data": {
            "text/plain": [
              "array([0., 1., 1., ..., 0., 0., 0.])"
            ]
          },
          "metadata": {
            "tags": []
          },
          "execution_count": 4
        }
      ]
    },
    {
      "cell_type": "code",
      "metadata": {
        "id": "ROzlG4HcCfxa",
        "colab_type": "code",
        "colab": {}
      },
      "source": [
        "#Vectorize the label\n",
        "\n",
        "y_train = np.asarray(train_labels).astype('float32')\n",
        "y_test = np.asarray(test_labels).astype('float32')\n"
      ],
      "execution_count": 0,
      "outputs": []
    },
    {
      "cell_type": "markdown",
      "metadata": {
        "id": "IAM2aek9EWjh",
        "colab_type": "text"
      },
      "source": [
        "Develope the model"
      ]
    },
    {
      "cell_type": "code",
      "metadata": {
        "id": "W1TrETd0Eayh",
        "colab_type": "code",
        "colab": {
          "base_uri": "https://localhost:8080/",
          "height": 35
        },
        "outputId": "ace9d884-c6a3-465b-9c84-4abf9fac82e9"
      },
      "source": [
        "\n",
        "import tensorflow as tf\n",
        "from tensorflow.keras import layers\n",
        "\n",
        "model = tf.keras.Sequential()\n",
        "model.add(layers.Dense(16, activation='relu', input_shape = (10000,)))\n",
        "model.add(layers.Dense(16, activation='relu'))\n",
        "model.add(layers.Dense(1,activation='sigmoid'))\n",
        "\n",
        "print(tf.__version__)"
      ],
      "execution_count": 8,
      "outputs": [
        {
          "output_type": "stream",
          "text": [
            "2.1.0\n"
          ],
          "name": "stdout"
        }
      ]
    },
    {
      "cell_type": "code",
      "metadata": {
        "id": "SQGCD8-EHezJ",
        "colab_type": "code",
        "colab": {}
      },
      "source": [
        "#Compilation\n",
        "\n",
        "model.compile(optimizer='rmsprop', loss='binary_crossentropy', metrics=['accuracy'])"
      ],
      "execution_count": 0,
      "outputs": []
    },
    {
      "cell_type": "markdown",
      "metadata": {
        "id": "19Ebfrr4J0cW",
        "colab_type": "text"
      },
      "source": [
        "Validate the approach:\n",
        "Creat dataset for validation"
      ]
    },
    {
      "cell_type": "code",
      "metadata": {
        "id": "jSu6pInKIcy0",
        "colab_type": "code",
        "colab": {}
      },
      "source": [
        "x_val = x_train[:10000]\n",
        "partial_x_train = x_train[10000:]\n",
        "y_val = y_train[:10000]\n",
        "partial_y_train = y_train[10000:]"
      ],
      "execution_count": 0,
      "outputs": []
    },
    {
      "cell_type": "markdown",
      "metadata": {
        "id": "wSIf8oyIKq9D",
        "colab_type": "text"
      },
      "source": [
        "Train the model"
      ]
    },
    {
      "cell_type": "code",
      "metadata": {
        "id": "aKHsJ2cJKbO6",
        "colab_type": "code",
        "colab": {
          "base_uri": "https://localhost:8080/",
          "height": 783
        },
        "outputId": "4d100e02-e014-4fea-eaf5-c504bb813172"
      },
      "source": [
        "history = model.fit(partial_x_train, partial_y_train, epochs=20, batch_size=512, validation_data=(x_val,y_val))"
      ],
      "execution_count": 11,
      "outputs": [
        {
          "output_type": "stream",
          "text": [
            "Train on 15000 samples, validate on 10000 samples\n",
            "Epoch 1/20\n",
            "15000/15000 [==============================] - 2s 161us/sample - loss: 0.5177 - accuracy: 0.7797 - val_loss: 0.4019 - val_accuracy: 0.8521\n",
            "Epoch 2/20\n",
            "15000/15000 [==============================] - 2s 103us/sample - loss: 0.3076 - accuracy: 0.9034 - val_loss: 0.3278 - val_accuracy: 0.8732\n",
            "Epoch 3/20\n",
            "15000/15000 [==============================] - 2s 103us/sample - loss: 0.2241 - accuracy: 0.9283 - val_loss: 0.3038 - val_accuracy: 0.8793\n",
            "Epoch 4/20\n",
            "15000/15000 [==============================] - 2s 106us/sample - loss: 0.1780 - accuracy: 0.9417 - val_loss: 0.2746 - val_accuracy: 0.8878\n",
            "Epoch 5/20\n",
            "15000/15000 [==============================] - 2s 105us/sample - loss: 0.1439 - accuracy: 0.9548 - val_loss: 0.2842 - val_accuracy: 0.8850\n",
            "Epoch 6/20\n",
            "15000/15000 [==============================] - 2s 104us/sample - loss: 0.1190 - accuracy: 0.9621 - val_loss: 0.2995 - val_accuracy: 0.8851\n",
            "Epoch 7/20\n",
            "15000/15000 [==============================] - 2s 105us/sample - loss: 0.0987 - accuracy: 0.9712 - val_loss: 0.3387 - val_accuracy: 0.8769\n",
            "Epoch 8/20\n",
            "15000/15000 [==============================] - 2s 106us/sample - loss: 0.0785 - accuracy: 0.9795 - val_loss: 0.3795 - val_accuracy: 0.8690\n",
            "Epoch 9/20\n",
            "15000/15000 [==============================] - 2s 105us/sample - loss: 0.0672 - accuracy: 0.9827 - val_loss: 0.3668 - val_accuracy: 0.8763\n",
            "Epoch 10/20\n",
            "15000/15000 [==============================] - 2s 105us/sample - loss: 0.0545 - accuracy: 0.9870 - val_loss: 0.4086 - val_accuracy: 0.8700\n",
            "Epoch 11/20\n",
            "15000/15000 [==============================] - 2s 105us/sample - loss: 0.0448 - accuracy: 0.9896 - val_loss: 0.3992 - val_accuracy: 0.8765\n",
            "Epoch 12/20\n",
            "15000/15000 [==============================] - 2s 104us/sample - loss: 0.0327 - accuracy: 0.9940 - val_loss: 0.4318 - val_accuracy: 0.8743\n",
            "Epoch 13/20\n",
            "15000/15000 [==============================] - 2s 103us/sample - loss: 0.0282 - accuracy: 0.9946 - val_loss: 0.4593 - val_accuracy: 0.8746\n",
            "Epoch 14/20\n",
            "15000/15000 [==============================] - 2s 103us/sample - loss: 0.0199 - accuracy: 0.9975 - val_loss: 0.5183 - val_accuracy: 0.8702\n",
            "Epoch 15/20\n",
            "15000/15000 [==============================] - 2s 104us/sample - loss: 0.0189 - accuracy: 0.9966 - val_loss: 0.5281 - val_accuracy: 0.8721\n",
            "Epoch 16/20\n",
            "15000/15000 [==============================] - 2s 104us/sample - loss: 0.0112 - accuracy: 0.9987 - val_loss: 0.6207 - val_accuracy: 0.8642\n",
            "Epoch 17/20\n",
            "15000/15000 [==============================] - 2s 105us/sample - loss: 0.0099 - accuracy: 0.9992 - val_loss: 0.6115 - val_accuracy: 0.8682\n",
            "Epoch 18/20\n",
            "15000/15000 [==============================] - 2s 105us/sample - loss: 0.0061 - accuracy: 0.9997 - val_loss: 0.6823 - val_accuracy: 0.8630\n",
            "Epoch 19/20\n",
            "15000/15000 [==============================] - 2s 104us/sample - loss: 0.0082 - accuracy: 0.9982 - val_loss: 0.6702 - val_accuracy: 0.8683\n",
            "Epoch 20/20\n",
            "15000/15000 [==============================] - 2s 102us/sample - loss: 0.0033 - accuracy: 0.9999 - val_loss: 0.7033 - val_accuracy: 0.8676\n"
          ],
          "name": "stdout"
        }
      ]
    },
    {
      "cell_type": "code",
      "metadata": {
        "id": "SjClKvNdLWnK",
        "colab_type": "code",
        "colab": {
          "base_uri": "https://localhost:8080/",
          "height": 35
        },
        "outputId": "82f88804-7f97-4451-bd49-2082c36e2429"
      },
      "source": [
        "#Look into history\n",
        "\n",
        "history.history.keys()"
      ],
      "execution_count": 12,
      "outputs": [
        {
          "output_type": "execute_result",
          "data": {
            "text/plain": [
              "dict_keys(['loss', 'accuracy', 'val_loss', 'val_accuracy'])"
            ]
          },
          "metadata": {
            "tags": []
          },
          "execution_count": 12
        }
      ]
    },
    {
      "cell_type": "markdown",
      "metadata": {
        "id": "GcqMEb1jLuBJ",
        "colab_type": "text"
      },
      "source": [
        "Plotting the training and validation loss"
      ]
    },
    {
      "cell_type": "code",
      "metadata": {
        "id": "xL2HLxZOLvHQ",
        "colab_type": "code",
        "colab": {
          "base_uri": "https://localhost:8080/",
          "height": 295
        },
        "outputId": "eaabfbc1-bfbc-448a-9d97-b3d846bb7fc6"
      },
      "source": [
        "import matplotlib.pyplot as plt\n",
        "history_dict = history.history\n",
        "loss_values = history_dict['loss']\n",
        "val_loss_values = history_dict['val_loss']\n",
        "\n",
        "epochs = range(1,len(history_dict['accuracy'])+1)\n",
        "\n",
        "plt.plot(epochs, loss_values, 'bo', label='Training Loss')\n",
        "plt.plot(epochs, val_loss_values, 'b', label='Validation loss')\n",
        "plt.title('Training and validation loss')\n",
        "plt.xlabel('Epochs')\n",
        "plt.ylabel('Loss')\n",
        "plt.legend()\n",
        "plt.show()"
      ],
      "execution_count": 17,
      "outputs": [
        {
          "output_type": "display_data",
          "data": {
            "image/png": "[encoded data removed]",
            "text/plain": [
              "<Figure size 432x288 with 1 Axes>"
            ]
          },
          "metadata": {
            "tags": []
          }
        }
      ]
    },
    {
      "cell_type": "markdown",
      "metadata": {
        "id": "TcIdXCCKOUcB",
        "colab_type": "text"
      },
      "source": [
        "Plotting the training and validation accuracy"
      ]
    },
    {
      "cell_type": "code",
      "metadata": {
        "id": "L5vVKa7xOYZN",
        "colab_type": "code",
        "colab": {
          "base_uri": "https://localhost:8080/",
          "height": 295
        },
        "outputId": "4e7a8759-5300-4f1e-d033-dbb682822ea3"
      },
      "source": [
        "#Clears the figure\n",
        "\n",
        "plt.clf()\n",
        "acc_values = history_dict['accuracy']\n",
        "val_acc_values = history_dict['val_accuracy']\n",
        "plt.plot(epochs, acc_values, 'bo', label='Training acc')\n",
        "plt.plot(epochs, val_acc_values, 'b', label='Validation acc')\n",
        "plt.title('Training and validation accuracy')\n",
        "plt.xlabel('Epochs')\n",
        "plt.ylabel('Loss')\n",
        "plt.legend()\n",
        "plt.show()"
      ],
      "execution_count": 21,
      "outputs": [
        {
          "output_type": "display_data",
          "data": {
            "image/png": "[encoded data removed]",
            "text/plain": [
              "<Figure size 432x288 with 1 Axes>"
            ]
          },
          "metadata": {
            "tags": []
          }
        }
      ]
    },
    {
      "cell_type": "markdown",
      "metadata": {
        "id": "ilVNsDlkPccW",
        "colab_type": "text"
      },
      "source": [
        "Retrain with a new model and less epoch(To decrease overfitting)"
      ]
    },
    {
      "cell_type": "code",
      "metadata": {
        "id": "Yi7R-fyRPkj3",
        "colab_type": "code",
        "colab": {
          "base_uri": "https://localhost:8080/",
          "height": 219
        },
        "outputId": "8c74d9d2-de9c-4336-e796-a5fab2d8d2bc"
      },
      "source": [
        "#Define the model\n",
        "newModel = tf.keras.Sequential()\n",
        "newModel.add(layers.Dense(64, activation='relu', input_shape = (10000,)))\n",
        "newModel.add(layers.Dense(64, activation='relu'))\n",
        "newModel.add(layers.Dense(32, activation='relu'))\n",
        "newModel.add(layers.Dense(16, activation='relu'))\n",
        "newModel.add(layers.Dense(1,activation='sigmoid'))\n",
        "\n",
        "#compile it\n",
        "newModel.compile(optimizer='rmsprop', loss='binary_crossentropy', metrics=['accuracy'])\n",
        "\n",
        "#train\n",
        "newModel.fit(x_train, y_train, epochs=4, batch_size=512)\n",
        "results = newModel.evaluate(x_test,y_test)"
      ],
      "execution_count": 40,
      "outputs": [
        {
          "output_type": "stream",
          "text": [
            "Train on 25000 samples\n",
            "Epoch 1/4\n",
            "25000/25000 [==============================] - 3s 129us/sample - loss: 0.4374 - accuracy: 0.8060\n",
            "Epoch 2/4\n",
            "25000/25000 [==============================] - 3s 109us/sample - loss: 0.2376 - accuracy: 0.9102\n",
            "Epoch 3/4\n",
            "25000/25000 [==============================] - 3s 109us/sample - loss: 0.1935 - accuracy: 0.9256\n",
            "Epoch 4/4\n",
            "25000/25000 [==============================] - 3s 109us/sample - loss: 0.1356 - accuracy: 0.9506\n",
            "25000/25000 [==============================] - 2s 100us/sample - loss: 0.3580 - accuracy: 0.8770\n"
          ],
          "name": "stdout"
        }
      ]
    },
    {
      "cell_type": "code",
      "metadata": {
        "id": "FpAIsER8Qr5v",
        "colab_type": "code",
        "colab": {
          "base_uri": "https://localhost:8080/",
          "height": 35
        },
        "outputId": "b76f8060-7ee7-479e-c74d-ec25bce47952"
      },
      "source": [
        "results"
      ],
      "execution_count": 41,
      "outputs": [
        {
          "output_type": "execute_result",
          "data": {
            "text/plain": [
              "[0.3579707163262367, 0.87696]"
            ]
          },
          "metadata": {
            "tags": []
          },
          "execution_count": 41
        }
      ]
    },
    {
      "cell_type": "markdown",
      "metadata": {
        "id": "dGOe2KQLQ1nn",
        "colab_type": "text"
      },
      "source": [
        "Using a trained network to generate predictions on new data"
      ]
    },
    {
      "cell_type": "code",
      "metadata": {
        "id": "aUtqsL_bQ20q",
        "colab_type": "code",
        "colab": {
          "base_uri": "https://localhost:8080/",
          "height": 145
        },
        "outputId": "40e10d98-4bc2-49c4-d3bd-89e30e4d31c3"
      },
      "source": [
        "newModel.predict(x_test)"
      ],
      "execution_count": 42,
      "outputs": [
        {
          "output_type": "execute_result",
          "data": {
            "text/plain": [
              "array([[0.13084355],\n",
              "       [0.9999932 ],\n",
              "       [0.9993881 ],\n",
              "       ...,\n",
              "       [0.14555842],\n",
              "       [0.08026977],\n",
              "       [0.8949774 ]], dtype=float32)"
            ]
          },
          "metadata": {
            "tags": []
          },
          "execution_count": 42
        }
      ]
    }
  ]
}