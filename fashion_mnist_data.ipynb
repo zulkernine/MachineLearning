{
  "nbformat": 4,
  "nbformat_minor": 0,
  "metadata": {
    "colab": {
      "name": "fashion_mnist_data.ipynb",
      "provenance": [],
      "authorship_tag": "ABX9TyPuR2klc+7tdBOCPf3dsNKe",
      "include_colab_link": true
    },
    "kernelspec": {
      "name": "python3",
      "display_name": "Python 3"
    }
  },
  "cells": [
    {
      "cell_type": "markdown",
      "metadata": {
        "id": "view-in-github",
        "colab_type": "text"
      },
      "source": [
        "<a href=\"https://colab.research.google.com/github/zulkernine/MachineLearning/blob/master/fashion_mnist_data.ipynb\" target=\"_parent\"><img src=\"https://colab.research.google.com/assets/colab-badge.svg\" alt=\"Open In Colab\"/></a>"
      ]
    },
    {
      "cell_type": "code",
      "metadata": {
        "id": "TdsFE0lxVJq2",
        "colab_type": "code",
        "colab": {
          "base_uri": "https://localhost:8080/",
          "height": 34
        },
        "outputId": "1df633d3-e400-48e7-faf5-1b96448438bd"
      },
      "source": [
        "%tensorflow_version 2.x"
      ],
      "execution_count": 1,
      "outputs": [
        {
          "output_type": "stream",
          "text": [
            "TensorFlow 2.x selected.\n"
          ],
          "name": "stdout"
        }
      ]
    },
    {
      "cell_type": "code",
      "metadata": {
        "id": "t1RwzzM0TuEO",
        "colab_type": "code",
        "colab": {
          "base_uri": "https://localhost:8080/",
          "height": 34
        },
        "outputId": "3ba4614d-a786-418f-9a89-2db9d7099b93"
      },
      "source": [
        "from __future__ import absolute_import,division,print_function,unicode_literals\n",
        "\n",
        "#Tensorflow and keras\n",
        "import tensorflow  as tf\n",
        "from tensorflow import keras\n",
        "\n",
        "#Helper library\n",
        "import numpy as np\n",
        "import matplotlib.pyplot as plt\n",
        "\n",
        "print(tf.__version__)"
      ],
      "execution_count": 2,
      "outputs": [
        {
          "output_type": "stream",
          "text": [
            "2.1.0\n"
          ],
          "name": "stdout"
        }
      ]
    },
    {
      "cell_type": "markdown",
      "metadata": {
        "id": "k09tZn--VaUB",
        "colab_type": "text"
      },
      "source": [
        "Import the dataset for fashion MNIST"
      ]
    },
    {
      "cell_type": "code",
      "metadata": {
        "id": "1dFjeB9NVefL",
        "colab_type": "code",
        "colab": {}
      },
      "source": [
        "fashion_mnist = keras.datasets.fashion_mnist\n",
        "(train_images, train_labels),(test_images,test_labels) = fashion_mnist.load_data()"
      ],
      "execution_count": 0,
      "outputs": []
    },
    {
      "cell_type": "code",
      "metadata": {
        "id": "4hLBcyuAV6Tw",
        "colab_type": "code",
        "colab": {
          "base_uri": "https://localhost:8080/",
          "height": 34
        },
        "outputId": "9b6e46bf-b347-4d9e-b592-80f3785a33a3"
      },
      "source": [
        "class_names = ['T-shirt/top','Trouser','Pullover','Dress','coat','Sandal','Shirt','Sneaker','Bag','Ankle bot']\n",
        "train_images.shape"
      ],
      "execution_count": 4,
      "outputs": [
        {
          "output_type": "execute_result",
          "data": {
            "text/plain": [
              "(60000, 28, 28)"
            ]
          },
          "metadata": {
            "tags": []
          },
          "execution_count": 4
        }
      ]
    },
    {
      "cell_type": "code",
      "metadata": {
        "id": "w_uow-b8Wf76",
        "colab_type": "code",
        "colab": {
          "base_uri": "https://localhost:8080/",
          "height": 34
        },
        "outputId": "c3fd39c2-2c16-4e4c-93a6-a79d9f29c3cb"
      },
      "source": [
        "len(train_images)"
      ],
      "execution_count": 5,
      "outputs": [
        {
          "output_type": "execute_result",
          "data": {
            "text/plain": [
              "60000"
            ]
          },
          "metadata": {
            "tags": []
          },
          "execution_count": 5
        }
      ]
    },
    {
      "cell_type": "markdown",
      "metadata": {
        "id": "GkUKmcLLWrfH",
        "colab_type": "text"
      },
      "source": [
        "Inspect a data and preprocess:"
      ]
    },
    {
      "cell_type": "code",
      "metadata": {
        "id": "DYHTYdbcWkKW",
        "colab_type": "code",
        "colab": {
          "base_uri": "https://localhost:8080/",
          "height": 266
        },
        "outputId": "68e8218c-a308-4e5c-b5cb-d32a4d199648"
      },
      "source": [
        "plt.figure()\n",
        "plt.imshow(train_images[657])\n",
        "plt.colorbar()\n",
        "plt.grid(False)\n",
        "plt.show()"
      ],
      "execution_count": 6,
      "outputs": [
        {
          "output_type": "display_data",
          "data": {
            "image/png": "[encoded data removed]",
            "text/plain": [
              "<Figure size 432x288 with 2 Axes>"
            ]
          },
          "metadata": {
            "tags": []
          }
        }
      ]
    },
    {
      "cell_type": "markdown",
      "metadata": {
        "id": "3ler7GVvXWhE",
        "colab_type": "text"
      },
      "source": [
        "Let's view some more images:"
      ]
    },
    {
      "cell_type": "code",
      "metadata": {
        "id": "t4VVzBqpXdN3",
        "colab_type": "code",
        "colab": {
          "base_uri": "https://localhost:8080/",
          "height": 173
        },
        "outputId": "544d94b4-3702-4414-d4c8-c69f20fe35b2"
      },
      "source": [
        "plt.figure(figsize=(10,10))\n",
        "for i in range(25,51):\n",
        "  plt.subplot(25,5,i+1)\n",
        "  plt.xticks([])\n",
        "  plt.yticks([])\n",
        "  plt.grid(False)\n",
        "  plt.imshow(train_images[i],cmap=plt.cm.binary)\n",
        "  plt.xlabel(class_names[train_labels[i]])\n",
        "plt.show()"
      ],
      "execution_count": 7,
      "outputs": [
        {
          "output_type": "display_data",
          "data": {
            "image/png": "[encoded data removed]",
            "text/plain": [
              "<Figure size 720x720 with 26 Axes>"
            ]
          },
          "metadata": {
            "tags": []
          }
        }
      ]
    },
    {
      "cell_type": "markdown",
      "metadata": {
        "id": "ROh4p5YzYySX",
        "colab_type": "text"
      },
      "source": [
        "Let's setup the layers:"
      ]
    },
    {
      "cell_type": "code",
      "metadata": {
        "id": "GgAp4A_nYniR",
        "colab_type": "code",
        "colab": {}
      },
      "source": [
        "myModel = keras.Sequential([keras.layers.Flatten(input_shape=(28,28)),\n",
        "                            keras.layers.Dense(128,activation='relu'),\n",
        "                            keras.layers.Dense(128,activation='relu'),\n",
        "                            keras.layers.Dense(64,activation='relu'),\n",
        "                            keras.layers.Dense(64,activation='relu'),\n",
        "                            keras.layers.Dense(10)])"
      ],
      "execution_count": 0,
      "outputs": []
    },
    {
      "cell_type": "code",
      "metadata": {
        "id": "PMXf-gNLZtQo",
        "colab_type": "code",
        "colab": {}
      },
      "source": [
        "myModel.compile(optimizer='adam',loss=tf.keras.losses.SparseCategoricalCrossentropy(from_logits=True),metrics=['accuracy'])"
      ],
      "execution_count": 0,
      "outputs": []
    },
    {
      "cell_type": "code",
      "metadata": {
        "id": "R7pcTP-raIZh",
        "colab_type": "code",
        "colab": {
          "base_uri": "https://localhost:8080/",
          "height": 561
        },
        "outputId": "22a56d85-3649-47ae-9468-4f179e94c645"
      },
      "source": [
        "myModel.fit(train_images,train_labels,epochs=15)"
      ],
      "execution_count": 32,
      "outputs": [
        {
          "output_type": "stream",
          "text": [
            "Train on 60000 samples\n",
            "Epoch 1/15\n",
            "60000/60000 [==============================] - 5s 88us/sample - loss: 0.3174 - accuracy: 0.8848\n",
            "Epoch 2/15\n",
            "60000/60000 [==============================] - 5s 89us/sample - loss: 0.3092 - accuracy: 0.8866\n",
            "Epoch 3/15\n",
            "60000/60000 [==============================] - 5s 89us/sample - loss: 0.3049 - accuracy: 0.8888\n",
            "Epoch 4/15\n",
            "60000/60000 [==============================] - 5s 88us/sample - loss: 0.3001 - accuracy: 0.8907\n",
            "Epoch 5/15\n",
            "60000/60000 [==============================] - 5s 89us/sample - loss: 0.2955 - accuracy: 0.8913\n",
            "Epoch 6/15\n",
            "60000/60000 [==============================] - 5s 90us/sample - loss: 0.2952 - accuracy: 0.8929\n",
            "Epoch 7/15\n",
            "60000/60000 [==============================] - 5s 88us/sample - loss: 0.2921 - accuracy: 0.8931\n",
            "Epoch 8/15\n",
            "60000/60000 [==============================] - 5s 90us/sample - loss: 0.2859 - accuracy: 0.8951\n",
            "Epoch 9/15\n",
            "60000/60000 [==============================] - 5s 89us/sample - loss: 0.2798 - accuracy: 0.8980\n",
            "Epoch 10/15\n",
            "60000/60000 [==============================] - 5s 90us/sample - loss: 0.2818 - accuracy: 0.8979\n",
            "Epoch 11/15\n",
            "60000/60000 [==============================] - 6s 96us/sample - loss: 0.2808 - accuracy: 0.8984\n",
            "Epoch 12/15\n",
            "60000/60000 [==============================] - 6s 98us/sample - loss: 0.2771 - accuracy: 0.8999\n",
            "Epoch 13/15\n",
            "60000/60000 [==============================] - 5s 89us/sample - loss: 0.2740 - accuracy: 0.8998\n",
            "Epoch 14/15\n",
            "60000/60000 [==============================] - 5s 90us/sample - loss: 0.2714 - accuracy: 0.9011\n",
            "Epoch 15/15\n",
            "60000/60000 [==============================] - 5s 89us/sample - loss: 0.2681 - accuracy: 0.9015\n"
          ],
          "name": "stdout"
        },
        {
          "output_type": "execute_result",
          "data": {
            "text/plain": [
              "<tensorflow.python.keras.callbacks.History at 0x7f2e2b772e10>"
            ]
          },
          "metadata": {
            "tags": []
          },
          "execution_count": 32
        }
      ]
    },
    {
      "cell_type": "markdown",
      "metadata": {
        "id": "Eg6fYafcagLT",
        "colab_type": "text"
      },
      "source": [
        "Evaluate the accuracy:"
      ]
    },
    {
      "cell_type": "code",
      "metadata": {
        "id": "vHclxBzGafcK",
        "colab_type": "code",
        "colab": {
          "base_uri": "https://localhost:8080/",
          "height": 68
        },
        "outputId": "ed40deec-08db-43cc-9225-9b1293216aa2"
      },
      "source": [
        "test_loss,test_acc = myModel.evaluate(test_images,test_labels,verbose=2)\n",
        "\n",
        "print('\\nTEst accuracy: ',test_acc)"
      ],
      "execution_count": 33,
      "outputs": [
        {
          "output_type": "stream",
          "text": [
            "10000/10000 - 0s - loss: 0.4067 - accuracy: 0.8715\n",
            "\n",
            "TEst accuracy:  0.8715\n"
          ],
          "name": "stdout"
        }
      ]
    },
    {
      "cell_type": "code",
      "metadata": {
        "id": "ZALLyRNkcXHx",
        "colab_type": "code",
        "colab": {}
      },
      "source": [
        "probabilityModel = tf.keras.Sequential([myModel,tf.keras.layers.Softmax()])"
      ],
      "execution_count": 0,
      "outputs": []
    },
    {
      "cell_type": "code",
      "metadata": {
        "id": "rtJhaYdKcp_1",
        "colab_type": "code",
        "colab": {}
      },
      "source": [
        "predictions = probabilityModel.predict(test_images)"
      ],
      "execution_count": 0,
      "outputs": []
    },
    {
      "cell_type": "code",
      "metadata": {
        "id": "HDtq8BYydQX4",
        "colab_type": "code",
        "colab": {
          "base_uri": "https://localhost:8080/",
          "height": 68
        },
        "outputId": "dee91e08-6d2a-4ee5-a43b-daf7390f3de7"
      },
      "source": [
        "predictions[0]"
      ],
      "execution_count": 36,
      "outputs": [
        {
          "output_type": "execute_result",
          "data": {
            "text/plain": [
              "array([0.0000000e+00, 0.0000000e+00, 0.0000000e+00, 0.0000000e+00,\n",
              "       0.0000000e+00, 8.6014610e-05, 9.0728242e-37, 3.7025486e-05,\n",
              "       1.2559196e-19, 9.9987698e-01], dtype=float32)"
            ]
          },
          "metadata": {
            "tags": []
          },
          "execution_count": 36
        }
      ]
    },
    {
      "cell_type": "code",
      "metadata": {
        "id": "mHXYQvRcdbdg",
        "colab_type": "code",
        "colab": {
          "base_uri": "https://localhost:8080/",
          "height": 34
        },
        "outputId": "4893a4f7-98ce-40a4-f536-db73fc094822"
      },
      "source": [
        "np.argmax(predictions[0])"
      ],
      "execution_count": 37,
      "outputs": [
        {
          "output_type": "execute_result",
          "data": {
            "text/plain": [
              "9"
            ]
          },
          "metadata": {
            "tags": []
          },
          "execution_count": 37
        }
      ]
    },
    {
      "cell_type": "code",
      "metadata": {
        "id": "-1xRnUqadk_C",
        "colab_type": "code",
        "colab": {
          "base_uri": "https://localhost:8080/",
          "height": 34
        },
        "outputId": "280dd829-0ca5-4e2e-cac2-fe63f452fea0"
      },
      "source": [
        "test_labels[0]"
      ],
      "execution_count": 38,
      "outputs": [
        {
          "output_type": "execute_result",
          "data": {
            "text/plain": [
              "9"
            ]
          },
          "metadata": {
            "tags": []
          },
          "execution_count": 38
        }
      ]
    },
    {
      "cell_type": "markdown",
      "metadata": {
        "id": "PBi6lOazesdI",
        "colab_type": "text"
      },
      "source": [
        "Graph it to look into more data"
      ]
    },
    {
      "cell_type": "code",
      "metadata": {
        "id": "h1xvbADYeyAg",
        "colab_type": "code",
        "colab": {}
      },
      "source": [
        "def plot_image(i, predictions_array, true_label, img):\n",
        "  predictions_array, true_label, img = predictions_array, true_label[i], img[i]\n",
        "  plt.grid(False)\n",
        "  plt.xticks([])\n",
        "  plt.yticks([])\n",
        "\n",
        "  plt.imshow(img, cmap=plt.cm.binary)\n",
        "\n",
        "  predicted_label = np.argmax(predictions_array)\n",
        "  if predicted_label == true_label:\n",
        "    color = 'blue'\n",
        "  else:\n",
        "    color = 'red'\n",
        "\n",
        "  plt.xlabel(\"{} {:2.0f}% ({})\".format(class_names[predicted_label],\n",
        "                                100*np.max(predictions_array),\n",
        "                                class_names[true_label]),\n",
        "                                color=color)\n",
        "\n",
        "def plot_value_array(i, predictions_array, true_label):\n",
        "  predictions_array, true_label = predictions_array, true_label[i]\n",
        "  plt.grid(False)\n",
        "  plt.xticks(range(10))\n",
        "  plt.yticks([])\n",
        "  thisplot = plt.bar(range(10), predictions_array, color=\"#777777\")\n",
        "  plt.ylim([0, 1])\n",
        "  predicted_label = np.argmax(predictions_array)\n",
        "\n",
        "  thisplot[predicted_label].set_color('red')\n",
        "  thisplot[true_label].set_color('blue')"
      ],
      "execution_count": 0,
      "outputs": []
    },
    {
      "cell_type": "markdown",
      "metadata": {
        "id": "vxOkGRn6fG5m",
        "colab_type": "text"
      },
      "source": [
        "Now look into data"
      ]
    },
    {
      "cell_type": "code",
      "metadata": {
        "id": "-pP2NYp_fJTE",
        "colab_type": "code",
        "colab": {
          "base_uri": "https://localhost:8080/",
          "height": 211
        },
        "outputId": "389b1b08-c6e9-4395-bfae-bc5ae097d83a"
      },
      "source": [
        "i = 35\n",
        "plt.figure(figsize=(6,3))\n",
        "plt.subplot(1,2,1)\n",
        "plot_image(i, predictions[i], test_labels, test_images)\n",
        "plt.subplot(1,2,2)\n",
        "plot_value_array(i, predictions[i],  test_labels)\n",
        "plt.show()"
      ],
      "execution_count": 40,
      "outputs": [
        {
          "output_type": "display_data",
          "data": {
            "image/png": "[encoded data removed]",
            "text/plain": [
              "<Figure size 432x216 with 2 Axes>"
            ]
          },
          "metadata": {
            "tags": []
          }
        }
      ]
    },
    {
      "cell_type": "code",
      "metadata": {
        "id": "rA6n67DefafL",
        "colab_type": "code",
        "colab": {
          "base_uri": "https://localhost:8080/",
          "height": 729
        },
        "outputId": "61dfc077-ae02-4f38-a3be-791032936457"
      },
      "source": [
        "# Plot the first X test images, their predicted labels, and the true labels.\n",
        "# Color correct predictions in blue and incorrect predictions in red.\n",
        "num_rows = 5\n",
        "num_cols = 3\n",
        "num_images = num_rows*num_cols\n",
        "plt.figure(figsize=(2*2*num_cols, 2*num_rows))\n",
        "for i in range(num_images):\n",
        "  plt.subplot(num_rows, 2*num_cols, 2*i+1)\n",
        "  plot_image(i, predictions[i], test_labels, test_images)\n",
        "  plt.subplot(num_rows, 2*num_cols, 2*i+2)\n",
        "  plot_value_array(i, predictions[i], test_labels)\n",
        "plt.tight_layout()\n",
        "plt.show()"
      ],
      "execution_count": 41,
      "outputs": [
        {
          "output_type": "display_data",
          "data": {
            "image/png": "[encoded data removed]",
            "text/plain": [
              "<Figure size 864x720 with 30 Axes>"
            ]
          },
          "metadata": {
            "tags": []
          }
        }
      ]
    }
  ]
}