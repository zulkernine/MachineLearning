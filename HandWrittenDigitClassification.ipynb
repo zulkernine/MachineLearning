{
  "nbformat": 4,
  "nbformat_minor": 0,
  "metadata": {
    "colab": {
      "name": "HandWrittenDigitClassification.ipynb",
      "provenance": [],
      "authorship_tag": "ABX9TyO12GgQBooMrULNvKA3DYjy",
      "include_colab_link": true
    },
    "kernelspec": {
      "name": "python3",
      "display_name": "Python 3"
    }
  },
  "cells": [
    {
      "cell_type": "markdown",
      "metadata": {
        "id": "view-in-github",
        "colab_type": "text"
      },
      "source": [
        "<a href=\"https://colab.research.google.com/github/zulkernine/MachineLearning/blob/master/HandWrittenDigitClassification.ipynb\" target=\"_parent\"><img src=\"https://colab.research.google.com/assets/colab-badge.svg\" alt=\"Open In Colab\"/></a>"
      ]
    },
    {
      "cell_type": "markdown",
      "metadata": {
        "id": "QS7l0-8U89Qg",
        "colab_type": "text"
      },
      "source": [
        "Load the Dataset from MNIST"
      ]
    },
    {
      "cell_type": "code",
      "metadata": {
        "id": "ww1d3laj74Dq",
        "colab_type": "code",
        "colab": {
          "base_uri": "https://localhost:8080/",
          "height": 68
        },
        "outputId": "0ae5b1e5-3b89-4217-843b-9d62069384b5"
      },
      "source": [
        "%tensorflow_version 2.x\n",
        "from tensorflow import keras\n",
        "from keras.datasets import mnist\n",
        "#import keras\n",
        "keras.__version__"
      ],
      "execution_count": 1,
      "outputs": [
        {
          "output_type": "stream",
          "text": [
            "TensorFlow 2.x selected.\n"
          ],
          "name": "stdout"
        },
        {
          "output_type": "stream",
          "text": [
            "Using TensorFlow backend.\n"
          ],
          "name": "stderr"
        },
        {
          "output_type": "execute_result",
          "data": {
            "text/plain": [
              "'2.2.4-tf'"
            ]
          },
          "metadata": {
            "tags": []
          },
          "execution_count": 1
        }
      ]
    },
    {
      "cell_type": "code",
      "metadata": {
        "id": "1RH_S7zz-uIG",
        "colab_type": "code",
        "colab": {}
      },
      "source": [
        "(train_images,train_labels),(test_images,test_labels) = mnist.load_data()\n",
        "\n"
      ],
      "execution_count": 0,
      "outputs": []
    },
    {
      "cell_type": "markdown",
      "metadata": {
        "id": "Qa81Kym3GzNw",
        "colab_type": "text"
      },
      "source": [
        "Visualise the data"
      ]
    },
    {
      "cell_type": "code",
      "metadata": {
        "id": "IF4IyCfrG2Ql",
        "colab_type": "code",
        "colab": {
          "base_uri": "https://localhost:8080/",
          "height": 265
        },
        "outputId": "c030c309-75c7-42ff-d0b4-01b815108cf4"
      },
      "source": [
        "import matplotlib.pyplot as plt\n",
        "\n",
        "plt.figure()\n",
        "plt.imshow(train_images[16])\n",
        "plt.colorbar()\n",
        "plt.grid(False)\n",
        "plt.show()"
      ],
      "execution_count": 16,
      "outputs": [
        {
          "output_type": "display_data",
          "data": {
            "image/png": "[encoded data removed]",
            "text/plain": [
              "<Figure size 432x288 with 2 Axes>"
            ]
          },
          "metadata": {
            "tags": []
          }
        }
      ]
    },
    {
      "cell_type": "markdown",
      "metadata": {
        "id": "1Oqxwcma_EYa",
        "colab_type": "text"
      },
      "source": [
        "Implement the Network"
      ]
    },
    {
      "cell_type": "code",
      "metadata": {
        "id": "mPXIc_O8_HBb",
        "colab_type": "code",
        "colab": {}
      },
      "source": [
        "# from keras import models\n",
        "# from keras import layers\n",
        "\n",
        "network = keras.Sequential()\n",
        "network.add(keras.layers.Dense(512,activation='relu', input_shape=(28*28,)))\n",
        "network.add(keras.layers.Dense(10,activation='softmax'))"
      ],
      "execution_count": 0,
      "outputs": []
    },
    {
      "cell_type": "markdown",
      "metadata": {
        "id": "YvMf318IABwv",
        "colab_type": "text"
      },
      "source": [
        "Compilation Step"
      ]
    },
    {
      "cell_type": "code",
      "metadata": {
        "id": "zNp9cS4PAE1s",
        "colab_type": "code",
        "colab": {}
      },
      "source": [
        "network.compile(\n",
        "    optimizer='rmsprop',loss='categorical_crossentropy',metrics=['accuracy']\n",
        ")"
      ],
      "execution_count": 0,
      "outputs": []
    },
    {
      "cell_type": "markdown",
      "metadata": {
        "id": "uHBg4CyaAoFF",
        "colab_type": "text"
      },
      "source": [
        "Preparing image data"
      ]
    },
    {
      "cell_type": "code",
      "metadata": {
        "id": "vqbyBWW_Altk",
        "colab_type": "code",
        "colab": {}
      },
      "source": [
        "train_images = train_images.reshape((60000,28*28))\n",
        "train_images = train_images.astype('float32')/255\n",
        "\n",
        "test_images = test_images.reshape((10000,28*28))\n",
        "test_images = test_images.astype('float32')/255\n",
        "\n"
      ],
      "execution_count": 0,
      "outputs": []
    },
    {
      "cell_type": "markdown",
      "metadata": {
        "id": "08W3oP7hBLTO",
        "colab_type": "text"
      },
      "source": [
        "Preparing the labels"
      ]
    },
    {
      "cell_type": "code",
      "metadata": {
        "id": "0g2Np930BOAZ",
        "colab_type": "code",
        "colab": {}
      },
      "source": [
        "from keras.utils import to_categorical\n",
        "\n",
        "train_labels = to_categorical(train_labels)\n",
        "test_labels = to_categorical(test_labels)"
      ],
      "execution_count": 0,
      "outputs": []
    },
    {
      "cell_type": "markdown",
      "metadata": {
        "id": "nkvnp-V-BlKo",
        "colab_type": "text"
      },
      "source": [
        "Fit the data"
      ]
    },
    {
      "cell_type": "code",
      "metadata": {
        "id": "NFqldHszBmsz",
        "colab_type": "code",
        "colab": {
          "base_uri": "https://localhost:8080/",
          "height": 391
        },
        "outputId": "0a294932-ca10-4df0-9cdc-30e4f12e02a3"
      },
      "source": [
        "network.fit(train_images,train_labels,epochs=10,batch_size=128)"
      ],
      "execution_count": 7,
      "outputs": [
        {
          "output_type": "stream",
          "text": [
            "Train on 60000 samples\n",
            "Epoch 1/10\n",
            "60000/60000 [==============================] - 4s 70us/sample - loss: 0.2578 - accuracy: 0.9255\n",
            "Epoch 2/10\n",
            "60000/60000 [==============================] - 4s 60us/sample - loss: 0.1024 - accuracy: 0.9692\n",
            "Epoch 3/10\n",
            "60000/60000 [==============================] - 4s 61us/sample - loss: 0.0681 - accuracy: 0.9800\n",
            "Epoch 4/10\n",
            "60000/60000 [==============================] - 4s 61us/sample - loss: 0.0493 - accuracy: 0.9854\n",
            "Epoch 5/10\n",
            "60000/60000 [==============================] - 4s 61us/sample - loss: 0.0366 - accuracy: 0.9890\n",
            "Epoch 6/10\n",
            "60000/60000 [==============================] - 4s 61us/sample - loss: 0.0281 - accuracy: 0.9917\n",
            "Epoch 7/10\n",
            "60000/60000 [==============================] - 4s 60us/sample - loss: 0.0212 - accuracy: 0.9937\n",
            "Epoch 8/10\n",
            "60000/60000 [==============================] - 4s 60us/sample - loss: 0.0157 - accuracy: 0.9956\n",
            "Epoch 9/10\n",
            "60000/60000 [==============================] - 4s 61us/sample - loss: 0.0127 - accuracy: 0.9963\n",
            "Epoch 10/10\n",
            "60000/60000 [==============================] - 4s 60us/sample - loss: 0.0096 - accuracy: 0.9977\n"
          ],
          "name": "stdout"
        },
        {
          "output_type": "execute_result",
          "data": {
            "text/plain": [
              "<tensorflow.python.keras.callbacks.History at 0x7f7416336518>"
            ]
          },
          "metadata": {
            "tags": []
          },
          "execution_count": 7
        }
      ]
    },
    {
      "cell_type": "markdown",
      "metadata": {
        "id": "bdQjUmzQCV0j",
        "colab_type": "text"
      },
      "source": [
        "Test the network on test images"
      ]
    },
    {
      "cell_type": "code",
      "metadata": {
        "id": "5hq5t5wjCZ4w",
        "colab_type": "code",
        "colab": {
          "base_uri": "https://localhost:8080/",
          "height": 51
        },
        "outputId": "02d0d83d-6580-4834-b787-f91589cede0f"
      },
      "source": [
        "test_loss, test_acc = network.evaluate(test_images, test_labels)\n",
        "print('test accuracy : ',test_acc)"
      ],
      "execution_count": 8,
      "outputs": [
        {
          "output_type": "stream",
          "text": [
            "10000/10000 [==============================] - 1s 63us/sample - loss: 0.0689 - accuracy: 0.9829\n",
            "test accuracy :  0.9829\n"
          ],
          "name": "stdout"
        }
      ]
    },
    {
      "cell_type": "markdown",
      "metadata": {
        "id": "sJ1b2MXfGAYQ",
        "colab_type": "text"
      },
      "source": [
        "Visualise the data"
      ]
    }
  ]
}